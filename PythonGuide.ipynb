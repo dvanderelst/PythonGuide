{
 "cells": [
  {
   "cell_type": "markdown",
   "metadata": {
    "toc": "true"
   },
   "source": [
    "# Table of Contents\n",
    " <p><div class=\"lev1 toc-item\"><a href=\"#Guide-for-the-confused\" data-toc-modified-id=\"Guide-for-the-confused-1\"><span class=\"toc-item-num\">1&nbsp;&nbsp;</span>Guide for the confused</a></div><div class=\"lev2 toc-item\"><a href=\"#Assigning-stuff-to-variables\" data-toc-modified-id=\"Assigning-stuff-to-variables-11\"><span class=\"toc-item-num\">1.1&nbsp;&nbsp;</span>Assigning stuff to variables</a></div><div class=\"lev2 toc-item\"><a href=\"#Checking-whether-things-are-true-or-false\" data-toc-modified-id=\"Checking-whether-things-are-true-or-false-12\"><span class=\"toc-item-num\">1.2&nbsp;&nbsp;</span>Checking whether things are true or false</a></div><div class=\"lev2 toc-item\"><a href=\"#Converting-between-types---some-possible-conversions\" data-toc-modified-id=\"Converting-between-types---some-possible-conversions-13\"><span class=\"toc-item-num\">1.3&nbsp;&nbsp;</span>Converting between types - some possible conversions</a></div><div class=\"lev2 toc-item\"><a href=\"#Working-with-strings\" data-toc-modified-id=\"Working-with-strings-14\"><span class=\"toc-item-num\">1.4&nbsp;&nbsp;</span>Working with strings</a></div><div class=\"lev3 toc-item\"><a href=\"#Getting-parts-of-a-string\" data-toc-modified-id=\"Getting-parts-of-a-string-141\"><span class=\"toc-item-num\">1.4.1&nbsp;&nbsp;</span>Getting parts of a string</a></div><div class=\"lev3 toc-item\"><a href=\"#length-of-a-string\" data-toc-modified-id=\"length-of-a-string-142\"><span class=\"toc-item-num\">1.4.2&nbsp;&nbsp;</span>length of a string</a></div><div class=\"lev3 toc-item\"><a href=\"#Operations-on-strings\" data-toc-modified-id=\"Operations-on-strings-143\"><span class=\"toc-item-num\">1.4.3&nbsp;&nbsp;</span>Operations on strings</a></div><div class=\"lev3 toc-item\"><a href=\"#Finding-in-strings\" data-toc-modified-id=\"Finding-in-strings-144\"><span class=\"toc-item-num\">1.4.4&nbsp;&nbsp;</span>Finding in strings</a></div><div class=\"lev3 toc-item\"><a href=\"#Concatenation-of-strings\" data-toc-modified-id=\"Concatenation-of-strings-145\"><span class=\"toc-item-num\">1.4.5&nbsp;&nbsp;</span>Concatenation of strings</a></div><div class=\"lev2 toc-item\"><a href=\"#Working-with-lists\" data-toc-modified-id=\"Working-with-lists-15\"><span class=\"toc-item-num\">1.5&nbsp;&nbsp;</span>Working with lists</a></div><div class=\"lev3 toc-item\"><a href=\"#Length-of-a-list\" data-toc-modified-id=\"Length-of-a-list-151\"><span class=\"toc-item-num\">1.5.1&nbsp;&nbsp;</span>Length of a list</a></div><div class=\"lev3 toc-item\"><a href=\"#Appending-to-a-list\" data-toc-modified-id=\"Appending-to-a-list-152\"><span class=\"toc-item-num\">1.5.2&nbsp;&nbsp;</span>Appending to a list</a></div><div class=\"lev3 toc-item\"><a href=\"#Getting-parts-of-a-list\" data-toc-modified-id=\"Getting-parts-of-a-list-153\"><span class=\"toc-item-num\">1.5.3&nbsp;&nbsp;</span>Getting parts of a list</a></div><div class=\"lev3 toc-item\"><a href=\"#Finding-in-a-list\" data-toc-modified-id=\"Finding-in-a-list-154\"><span class=\"toc-item-num\">1.5.4&nbsp;&nbsp;</span>Finding in a list</a></div><div class=\"lev3 toc-item\"><a href=\"#Removing-from-a-list,-by-index\" data-toc-modified-id=\"Removing-from-a-list,-by-index-155\"><span class=\"toc-item-num\">1.5.5&nbsp;&nbsp;</span>Removing from a list, by index</a></div><div class=\"lev3 toc-item\"><a href=\"#Removing-from-a-list,-by-item\" data-toc-modified-id=\"Removing-from-a-list,-by-item-156\"><span class=\"toc-item-num\">1.5.6&nbsp;&nbsp;</span>Removing from a list, by item</a></div><div class=\"lev2 toc-item\"><a href=\"#Math-Module\" data-toc-modified-id=\"Math-Module-16\"><span class=\"toc-item-num\">1.6&nbsp;&nbsp;</span>Math Module</a></div><div class=\"lev3 toc-item\"><a href=\"#Some-relevant-functions\" data-toc-modified-id=\"Some-relevant-functions-161\"><span class=\"toc-item-num\">1.6.1&nbsp;&nbsp;</span>Some relevant functions</a></div><div class=\"lev3 toc-item\"><a href=\"#Angles-should-be-expressed-as-radians!\" data-toc-modified-id=\"Angles-should-be-expressed-as-radians!-162\"><span class=\"toc-item-num\">1.6.2&nbsp;&nbsp;</span>Angles should be expressed as radians!</a></div><div class=\"lev2 toc-item\"><a href=\"#Random-module\" data-toc-modified-id=\"Random-module-17\"><span class=\"toc-item-num\">1.7&nbsp;&nbsp;</span>Random module</a></div><div class=\"lev3 toc-item\"><a href=\"#Random-operations-on-lists\" data-toc-modified-id=\"Random-operations-on-lists-171\"><span class=\"toc-item-num\">1.7.1&nbsp;&nbsp;</span>Random operations on lists</a></div><div class=\"lev2 toc-item\"><a href=\"#Random-numbers\" data-toc-modified-id=\"Random-numbers-18\"><span class=\"toc-item-num\">1.8&nbsp;&nbsp;</span>Random numbers</a></div>"
   ]
  },
  {
   "cell_type": "markdown",
   "metadata": {},
   "source": [
    "# Guide for the confused\n",
    "\n",
    "## Assigning stuff to variables"
   ]
  },
  {
   "cell_type": "code",
   "execution_count": 2,
   "metadata": {
    "collapsed": false
   },
   "outputs": [
    {
     "name": "stdout",
     "output_type": "stream",
     "text": [
      "10 indiana jones\n"
     ]
    }
   ],
   "source": [
    "my_var = 10\n",
    "another_var = 'indiana jones'\n",
    "print(my_var, another_var)"
   ]
  },
  {
   "cell_type": "markdown",
   "metadata": {},
   "source": [
    "## Checking whether things are true or false"
   ]
  },
  {
   "cell_type": "code",
   "execution_count": 5,
   "metadata": {
    "collapsed": false
   },
   "outputs": [
    {
     "name": "stdout",
     "output_type": "stream",
     "text": [
      "True\n",
      "True\n",
      "False\n",
      "True\n",
      "True\n"
     ]
    }
   ],
   "source": [
    "\n",
    "print(my_var > 0)\n",
    "print(my_var != 0) # not equal to\n",
    "print(my_var == 100) # equal to\n",
    "print(my_var == 10 and another_var == 'indiana jones')\n",
    "print(my_var == 10 or another_var == 'batman')"
   ]
  },
  {
   "cell_type": "markdown",
   "metadata": {},
   "source": [
    "## Converting between types - some possible conversions"
   ]
  },
  {
   "cell_type": "code",
   "execution_count": 6,
   "metadata": {
    "collapsed": false
   },
   "outputs": [
    {
     "name": "stdout",
     "output_type": "stream",
     "text": [
      "15.5\n",
      "15\n",
      "False\n",
      "10000\n",
      "15.5\n",
      "10000.0\n",
      "0.0\n",
      "0\n"
     ]
    }
   ],
   "source": [
    "a_float = 15.5\n",
    "an_int = 10000\n",
    "a_boolean = False\n",
    "\n",
    "print(str(a_float))\n",
    "print(int(a_float))\n",
    "\n",
    "print(str(a_boolean))\n",
    "print(str(an_int))\n",
    "print(str(a_float))\n",
    "\n",
    "print(float(an_int))\n",
    "print(float(a_boolean))\n",
    "print(int(a_boolean))"
   ]
  },
  {
   "cell_type": "markdown",
   "metadata": {},
   "source": [
    "## Working with strings"
   ]
  },
  {
   "cell_type": "code",
   "execution_count": 10,
   "metadata": {
    "collapsed": false
   },
   "outputs": [
    {
     "name": "stdout",
     "output_type": "stream",
     "text": [
      "psychology!\n"
     ]
    }
   ],
   "source": [
    "my_text = 'psychology!'\n",
    "print(my_text)"
   ]
  },
  {
   "cell_type": "markdown",
   "metadata": {},
   "source": [
    "### Getting parts of a string"
   ]
  },
  {
   "cell_type": "code",
   "execution_count": 11,
   "metadata": {
    "collapsed": false
   },
   "outputs": [
    {
     "name": "stdout",
     "output_type": "stream",
     "text": [
      "p\n",
      "psych\n",
      "ology!\n"
     ]
    }
   ],
   "source": [
    "print(my_text[0]) \n",
    "print(my_text[0:5]) \n",
    "print(my_text[5:])"
   ]
  },
  {
   "cell_type": "markdown",
   "metadata": {},
   "source": [
    "### length of a string"
   ]
  },
  {
   "cell_type": "code",
   "execution_count": 12,
   "metadata": {
    "collapsed": false
   },
   "outputs": [
    {
     "name": "stdout",
     "output_type": "stream",
     "text": [
      "11\n"
     ]
    }
   ],
   "source": [
    "print(len(my_text))"
   ]
  },
  {
   "cell_type": "markdown",
   "metadata": {},
   "source": [
    "### Operations on strings"
   ]
  },
  {
   "cell_type": "code",
   "execution_count": 17,
   "metadata": {
    "collapsed": false
   },
   "outputs": [
    {
     "name": "stdout",
     "output_type": "stream",
     "text": [
      "Psychology!\n",
      "PSYCHOLOGY!\n",
      "psychology!\n",
      "ychology!\n",
      "psychology\n",
      "2\n",
      "psychxlxgy!\n"
     ]
    }
   ],
   "source": [
    "print(my_text.capitalize())\n",
    "print(my_text.upper())\n",
    "print(my_text.lower())\n",
    "print(my_text.lstrip('ps')) \n",
    "print(my_text.rstrip('!'))\n",
    "print(my_text.count('o')) \n",
    "print(my_text.replace('o','x')) "
   ]
  },
  {
   "cell_type": "markdown",
   "metadata": {},
   "source": [
    "### Finding in strings"
   ]
  },
  {
   "cell_type": "code",
   "execution_count": 15,
   "metadata": {
    "collapsed": false
   },
   "outputs": [
    {
     "name": "stdout",
     "output_type": "stream",
     "text": [
      "True\n",
      "5\n"
     ]
    }
   ],
   "source": [
    "print('ology' in my_text)\n",
    "print(my_text.index('o'))"
   ]
  },
  {
   "cell_type": "markdown",
   "metadata": {},
   "source": [
    "### Concatenation of strings"
   ]
  },
  {
   "cell_type": "code",
   "execution_count": 16,
   "metadata": {
    "collapsed": false
   },
   "outputs": [
    {
     "name": "stdout",
     "output_type": "stream",
     "text": [
      "batman & robin\n"
     ]
    }
   ],
   "source": [
    "print('batman' + ' & ' + 'robin')"
   ]
  },
  {
   "cell_type": "markdown",
   "metadata": {},
   "source": [
    "## Working with lists"
   ]
  },
  {
   "cell_type": "code",
   "execution_count": 18,
   "metadata": {
    "collapsed": false
   },
   "outputs": [],
   "source": [
    "reindeer = ['Dasher', 'Dancer','Prancer','Vixen', 'Comet']\n",
    "more_reindeer = ['Cupid','Donner','Blitzen']"
   ]
  },
  {
   "cell_type": "markdown",
   "metadata": {},
   "source": [
    "### Length of a list"
   ]
  },
  {
   "cell_type": "code",
   "execution_count": 19,
   "metadata": {
    "collapsed": false
   },
   "outputs": [
    {
     "name": "stdout",
     "output_type": "stream",
     "text": [
      "5\n"
     ]
    }
   ],
   "source": [
    "print(len(reindeer))"
   ]
  },
  {
   "cell_type": "markdown",
   "metadata": {},
   "source": [
    "### Appending to a list"
   ]
  },
  {
   "cell_type": "code",
   "execution_count": 20,
   "metadata": {
    "collapsed": false
   },
   "outputs": [
    {
     "name": "stdout",
     "output_type": "stream",
     "text": [
      "['Dasher', 'Dancer', 'Prancer', 'Vixen', 'Comet', 'Cupid', 'Donner', 'Blitzen']\n"
     ]
    }
   ],
   "source": [
    "all_reindeer = reindeer + more_reindeer\n",
    "print(all_reindeer)"
   ]
  },
  {
   "cell_type": "code",
   "execution_count": 21,
   "metadata": {
    "collapsed": false
   },
   "outputs": [
    {
     "name": "stdout",
     "output_type": "stream",
     "text": [
      "['Dasher', 'Dancer', 'Prancer', 'Vixen', 'Comet', 'Cupid', 'Donner', 'Blitzen', 'Rudolf']\n"
     ]
    }
   ],
   "source": [
    "all_reindeer.append('Rudolf')\n",
    "print(all_reindeer)"
   ]
  },
  {
   "cell_type": "markdown",
   "metadata": {},
   "source": [
    "### Getting parts of a list"
   ]
  },
  {
   "cell_type": "code",
   "execution_count": 22,
   "metadata": {
    "collapsed": false
   },
   "outputs": [
    {
     "name": "stdout",
     "output_type": "stream",
     "text": [
      "Cupid\n",
      "['Dasher', 'Dancer', 'Prancer', 'Vixen']\n",
      "['Comet', 'Cupid', 'Donner', 'Blitzen', 'Rudolf']\n"
     ]
    }
   ],
   "source": [
    "print(all_reindeer[5])\n",
    "print(all_reindeer[0:4])\n",
    "print(all_reindeer[4:])"
   ]
  },
  {
   "cell_type": "markdown",
   "metadata": {},
   "source": [
    "### Finding in a list"
   ]
  },
  {
   "cell_type": "code",
   "execution_count": 23,
   "metadata": {
    "collapsed": false
   },
   "outputs": [
    {
     "name": "stdout",
     "output_type": "stream",
     "text": [
      "2\n",
      "True\n",
      "False\n"
     ]
    }
   ],
   "source": [
    "print(all_reindeer.index('Prancer'))\n",
    "print('Rudolf' in  all_reindeer)\n",
    "print('Santa' in all_reindeer)"
   ]
  },
  {
   "cell_type": "markdown",
   "metadata": {},
   "source": [
    "### Removing from a list, by index"
   ]
  },
  {
   "cell_type": "code",
   "execution_count": 25,
   "metadata": {
    "collapsed": false
   },
   "outputs": [
    {
     "name": "stdout",
     "output_type": "stream",
     "text": [
      "['Dasher', 'Dancer', 'Prancer', 'Vixen', 'Comet', 'Cupid', 'Donner', 'Rudolf']\n",
      "['Dasher', 'Dancer', 'Prancer', 'Vixen', 'Comet', 'Cupid', 'Donner']\n"
     ]
    }
   ],
   "source": [
    "print(all_reindeer)\n",
    "all_reindeer.pop(7)\n",
    "print(all_reindeer)"
   ]
  },
  {
   "cell_type": "markdown",
   "metadata": {},
   "source": [
    "### Removing from a list, by item"
   ]
  },
  {
   "cell_type": "code",
   "execution_count": 26,
   "metadata": {
    "collapsed": false
   },
   "outputs": [
    {
     "name": "stdout",
     "output_type": "stream",
     "text": [
      "['Dasher', 'Dancer', 'Prancer', 'Vixen', 'Comet', 'Cupid', 'Donner']\n",
      "['Dasher', 'Dancer', 'Vixen', 'Comet', 'Cupid', 'Donner']\n"
     ]
    }
   ],
   "source": [
    "print(all_reindeer)\n",
    "all_reindeer.remove('Prancer')\n",
    "print(all_reindeer)"
   ]
  },
  {
   "cell_type": "markdown",
   "metadata": {},
   "source": [
    "## Math Module\n",
    "### Some relevant functions"
   ]
  },
  {
   "cell_type": "code",
   "execution_count": 31,
   "metadata": {
    "collapsed": false
   },
   "outputs": [
    {
     "name": "stdout",
     "output_type": "stream",
     "text": [
      "3.141592653589793\n",
      "6\n",
      "11\n"
     ]
    }
   ],
   "source": [
    "import math\n",
    "print(math.pi)\n",
    "print(math.gcd(18,12))\n",
    "print(math.ceil(10.2))"
   ]
  },
  {
   "cell_type": "markdown",
   "metadata": {},
   "source": [
    "### Angles should be expressed as radians!"
   ]
  },
  {
   "cell_type": "code",
   "execution_count": 32,
   "metadata": {
    "collapsed": false
   },
   "outputs": [
    {
     "name": "stdout",
     "output_type": "stream",
     "text": [
      "0.5403023058681398\n",
      "-0.4480736161291701\n"
     ]
    }
   ],
   "source": [
    "print(math.cos(1))\n",
    "print(math.cos(90))"
   ]
  },
  {
   "cell_type": "markdown",
   "metadata": {},
   "source": [
    "## Random module"
   ]
  },
  {
   "cell_type": "code",
   "execution_count": 33,
   "metadata": {
    "collapsed": false
   },
   "outputs": [],
   "source": [
    "import random\n"
   ]
  },
  {
   "cell_type": "markdown",
   "metadata": {},
   "source": [
    " ### Random operations on lists"
   ]
  },
  {
   "cell_type": "code",
   "execution_count": 34,
   "metadata": {
    "collapsed": false
   },
   "outputs": [
    {
     "name": "stdout",
     "output_type": "stream",
     "text": [
      "Comet\n",
      "['Dasher', 'Dancer', 'Vixen', 'Comet', 'Cupid', 'Donner']\n",
      "['Cupid', 'Dasher', 'Donner', 'Dancer', 'Vixen', 'Comet']\n"
     ]
    }
   ],
   "source": [
    "print(random.choice(all_reindeer))\n",
    "print(all_reindeer)\n",
    "random.shuffle(all_reindeer)\n",
    "print(all_reindeer)"
   ]
  },
  {
   "cell_type": "code",
   "execution_count": 35,
   "metadata": {
    "collapsed": false
   },
   "outputs": [
    {
     "name": "stdout",
     "output_type": "stream",
     "text": [
      "['Donner', 'Vixen', 'Comet']\n"
     ]
    }
   ],
   "source": [
    "print(random.sample(all_reindeer, 3))"
   ]
  },
  {
   "cell_type": "markdown",
   "metadata": {},
   "source": [
    "## Random numbers"
   ]
  },
  {
   "cell_type": "code",
   "execution_count": 36,
   "metadata": {
    "collapsed": false
   },
   "outputs": [
    {
     "name": "stdout",
     "output_type": "stream",
     "text": [
      "3\n",
      "0\n",
      "12.054039820951616\n"
     ]
    }
   ],
   "source": [
    "print(random.randint(0,10))\n",
    "print(random.randrange(0,10))\n",
    "print(random.gauss(10,3))"
   ]
  }
 ],
 "metadata": {
  "kernelspec": {
   "display_name": "Python 3",
   "language": "python",
   "name": "python3"
  },
  "language_info": {
   "codemirror_mode": {
    "name": "ipython",
    "version": 3
   },
   "file_extension": ".py",
   "mimetype": "text/x-python",
   "name": "python",
   "nbconvert_exporter": "python",
   "pygments_lexer": "ipython3",
   "version": "3.6.0"
  },
  "toc": {
   "colors": {
    "hover_highlight": "#DAA520",
    "running_highlight": "#FF0000",
    "selected_highlight": "#FFD700"
   },
   "moveMenuLeft": true,
   "nav_menu": {
    "height": "415px",
    "width": "252px"
   },
   "navigate_menu": true,
   "number_sections": true,
   "sideBar": true,
   "threshold": 4,
   "toc_cell": true,
   "toc_position": {
    "height": "964px",
    "left": "0px",
    "right": "1773.62px",
    "top": "81.8833px",
    "width": "338px"
   },
   "toc_section_display": "block",
   "toc_window_display": true,
   "widenNotebook": false
  }
 },
 "nbformat": 4,
 "nbformat_minor": 2
}
